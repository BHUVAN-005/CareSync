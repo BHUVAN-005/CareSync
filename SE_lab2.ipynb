{
  "nbformat": 4,
  "nbformat_minor": 0,
  "metadata": {
    "colab": {
      "provenance": [],
      "authorship_tag": "ABX9TyNaYLCPr24cBX0eqIy1sIpp",
      "include_colab_link": true
    },
    "kernelspec": {
      "name": "python3",
      "display_name": "Python 3"
    },
    "language_info": {
      "name": "python"
    }
  },
  "cells": [
    {
      "cell_type": "markdown",
      "metadata": {
        "id": "view-in-github",
        "colab_type": "text"
      },
      "source": [
        "<a href=\"https://colab.research.google.com/github/BHUVAN-005/CareSync/blob/main/SE_lab2.ipynb\" target=\"_parent\"><img src=\"https://colab.research.google.com/assets/colab-badge.svg\" alt=\"Open In Colab\"/></a>"
      ]
    },
    {
      "cell_type": "code",
      "execution_count": 1,
      "metadata": {
        "colab": {
          "base_uri": "https://localhost:8080/"
        },
        "id": "Ia34nHusnFq6",
        "outputId": "1a425c95-3635-4cd1-bbd6-8e928cf0ebcf"
      },
      "outputs": [
        {
          "output_type": "stream",
          "name": "stdout",
          "text": [
            "Hardcoded Version: Alice's Average = 86.6, Grade = B\n"
          ]
        }
      ],
      "source": [
        "# Hardcoded Version\n",
        "# Student Grade Calculator\n",
        "student_name = \"Alice\"\n",
        "marks = [85, 90, 78, 92, 88]\n",
        "average = sum(marks) / len(marks)\n",
        "\n",
        "\n",
        "if average >= 90:\n",
        "    grade = 'A'\n",
        "elif average >= 80:\n",
        "    grade = 'B'\n",
        "elif average >= 70:\n",
        "    grade = 'C'\n",
        "elif average >= 60:\n",
        "    grade = 'D'\n",
        "else:\n",
        "    grade = 'F'\n",
        "\n",
        "print(f\"Hardcoded Version: {student_name}'s Average = {average}, Grade = {grade}\")\n"
      ]
    }
  ]
}